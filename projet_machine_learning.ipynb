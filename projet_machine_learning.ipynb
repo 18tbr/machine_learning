{
 "cells": [
  {
   "cell_type": "code",
   "execution_count": null,
   "metadata": {},
   "outputs": [],
   "source": [
    "# Because our images are fairly small, it will be faster to just cache them all in RAM rather than perform IO reads at runtime\n",
    "import os\n",
    "import matplotlib.pyplot as plt\n",
    "from PIL import Image\n",
    "import numpy as np\n",
    "\n",
    "LLabels = [] # All the labels, in order\n",
    "LImages = [] # All the images, in order\n",
    "\n",
    "for root, dirs, files in os.walk(\"plots\"):\n",
    "   for name in files:\n",
    "      shortnameSplitted = name.rstrip(\".jpg\").split(\"_\")\n",
    "      LLabels.append((float(shortnameSplitted[1]),float(shortnameSplitted[2])))\n",
    "      im = Image.open(os.path.join(root, name))\n",
    "      print(np.shape(np.array(im)))\n",
    "      input()\n",
    "      r, g, b = np.array(im).T\n",
    "      LImages.append(plt.imread(os.path.join(root, name)))\n",
    "      plt.show()\n",
    "\n",
    "print(len(LImages))\n",
    "print(len(LLabels))"
   ]
  },
  {
   "cell_type": "code",
   "execution_count": 11,
   "metadata": {},
   "outputs": [
    {
     "name": "stdout",
     "output_type": "stream",
     "text": [
      "600\n",
      "300\n"
     ]
    }
   ],
   "source": [
    "from sklearn.model_selection import KFold\n",
    "\n",
    "n_split=3\n",
    "x_train, y_train, x_test, y_test = [[],[],[],[]], [[],[],[],[]], [[],[],[],[]], [[],[],[],[]]\n",
    "n = 0\n",
    "for train_index,test_index in KFold(n_split).split(LImages):\n",
    "    for k in train_index:\n",
    "        x_train[n].append(LImages[k])\n",
    "        y_train[n].append(LLabels[k])\n",
    "    for k in test_index:\n",
    "        x_test[n].append(LImages[k])\n",
    "        y_test[n].append(LLabels[k])\n",
    "    n+=1\n",
    "    \n",
    "\n"
   ]
  },
  {
   "cell_type": "code",
   "execution_count": 15,
   "metadata": {},
   "outputs": [],
   "source": [
    "import tensorflow as tf\n",
    "import tensorflow.python.keras as keras\n",
    "from keras.applications.resnet50 import ResNet50\n",
    "\n",
    "model = ResNet50(weights = 'imagenet', include_top = False)\n",
    "\n",
    "x=model.output\n",
    "x=GlobalAveragePooling2D()(x)\n",
    "x=Dense(1024,activation='relu')(x) \n",
    "x=Dense(512,activation='relu')(x) \n",
    "preds=Dense(2,activation='softmax')(x) \n",
    "\n",
    "model_piche=Model(inputs=model.input,outputs=preds) \n",
    "\n",
    "for layer in model.layers:\n",
    "    layer.trainable=False\n",
    "\n",
    "    \n",
    "\n",
    "\n"
   ]
  },
  {
   "cell_type": "code",
   "execution_count": null,
   "metadata": {},
   "outputs": [],
   "source": []
  }
 ],
 "metadata": {
  "kernelspec": {
   "display_name": "Python 3",
   "language": "python",
   "name": "python3"
  },
  "language_info": {
   "codemirror_mode": {
    "name": "ipython",
    "version": 3
   },
   "file_extension": ".py",
   "mimetype": "text/x-python",
   "name": "python",
   "nbconvert_exporter": "python",
   "pygments_lexer": "ipython3",
   "version": "3.7.5rc1"
  }
 },
 "nbformat": 4,
 "nbformat_minor": 2
}
