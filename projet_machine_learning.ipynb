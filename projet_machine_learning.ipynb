{
 "cells": [
  {
   "cell_type": "code",
   "execution_count": 2,
   "metadata": {},
   "outputs": [
    {
     "name": "stdout",
     "output_type": "stream",
     "text": [
      "900\n",
      "900\n"
     ]
    }
   ],
   "source": [
    "# Because our images are fairly small, it will be faster to just cache them all in RAM rather than perform IO reads at runtime\n",
    "import os\n",
    "import matplotlib.pyplot as plt\n",
    "\n",
    "LLabels = [] # All the labels, in order\n",
    "LImages = [] # All the images, in order\n",
    "\n",
    "for root, dirs, files in os.walk(\"plots\"):\n",
    "   for name in files:\n",
    "      shortnameSplitted = os.path.basename(name).split(\"_\")\n",
    "      LLabels.append((shortnameSplitted[1],shortnameSplitted[2]))\n",
    "      LImages.append(plt.imread(os.path.join(root, name)))\n",
    "      plt.show()\n",
    "\n",
    "print(len(LImages))\n",
    "print(len(LLabels))"
   ]
  },
  {
   "cell_type": "code",
   "execution_count": null,
   "metadata": {},
   "outputs": [],
   "source": []
  }
 ],
 "metadata": {
  "kernelspec": {
   "display_name": "Python 3",
   "language": "python",
   "name": "python3"
  },
  "language_info": {
   "codemirror_mode": {
    "name": "ipython",
    "version": 3
   },
   "file_extension": ".py",
   "mimetype": "text/x-python",
   "name": "python",
   "nbconvert_exporter": "python",
   "pygments_lexer": "ipython3",
   "version": "3.7.5rc1"
  }
 },
 "nbformat": 4,
 "nbformat_minor": 2
}
